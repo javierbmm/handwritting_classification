{
  "nbformat": 4,
  "nbformat_minor": 0,
  "metadata": {
    "colab": {
      "name": "handwritting-classification.ipynb",
      "provenance": [],
      "authorship_tag": "ABX9TyNTizTVqNhxahO81ZR53ZMr",
      "include_colab_link": true
    },
    "kernelspec": {
      "name": "python3",
      "display_name": "Python 3"
    },
    "language_info": {
      "name": "python"
    }
  },
  "cells": [
    {
      "cell_type": "markdown",
      "metadata": {
        "id": "view-in-github",
        "colab_type": "text"
      },
      "source": [
        "<a href=\"https://colab.research.google.com/github/javierbmm/handwritting_classification/blob/main/handwritting_classification.ipynb\" target=\"_parent\"><img src=\"https://colab.research.google.com/assets/colab-badge.svg\" alt=\"Open In Colab\"/></a>"
      ]
    },
    {
      "cell_type": "markdown",
      "metadata": {
        "id": "mYkQIYmmc5fs"
      },
      "source": [
        "# Handwritting Classification\n",
        "\n",
        "Classification of handwritting numbers (from 0 to 9) using KNN neighbors algorithm, implementing preprocessing, scaling and tuning data techniques:\n",
        "* **PCA**: Principal component analysis.\n",
        "* **TruncatedSVD**: Truncated singular value decomposition (aka LSA)\n",
        "\n",
        "More details on implementation and algorithm explanations throughout this notebook. \n",
        "\n",
        "________________________________________________\n"
      ]
    },
    {
      "cell_type": "markdown",
      "metadata": {
        "id": "B4bd3Tm4Uacy"
      },
      "source": [
        "## Loading main libraries"
      ]
    },
    {
      "cell_type": "code",
      "metadata": {
        "id": "-IcJauctQtm8"
      },
      "source": [
        "# -libraries\n",
        "import numpy\n",
        "import sklearn\n",
        "import sklearn.datasets\n",
        "import sklearn.model_selection\n",
        "import sklearn.decomposition\n",
        "\n",
        "# - visualization\n",
        "import matplotlib.pyplot as plt"
      ],
      "execution_count": 23,
      "outputs": []
    },
    {
      "cell_type": "markdown",
      "metadata": {
        "id": "MtqF4nC3S0VU"
      },
      "source": [
        "## Auxiliar functions"
      ]
    },
    {
      "cell_type": "code",
      "metadata": {
        "id": "bqOWE4FpRqQT"
      },
      "source": [
        "# - Functions\n",
        "def load_data():\n",
        "\t_digits = sklearn.datasets.load_digits()\n",
        "\t_X = _digits.data\n",
        "\t_Y = _digits.target\n",
        "\treturn _digits, _X, _Y\n",
        "\n",
        "\n",
        "def describe_data(images=False):\n",
        "\tprint(digits.DESCR)\n",
        "\tprint(X.shape)\n",
        "\tprint(Y.shape)\n",
        "\tprint(digits.feature_names)\n",
        "\tprint(digits.target_names)\n",
        "\tif images:\n",
        "\t\tplt.gray()\n",
        "\t\tplt.matshow(digits.images[0])\n",
        "\t\tplt.show()\n",
        "\n",
        "\n",
        "def preprocess_data():\n",
        "\t# - Data normalization by zero mean and unit variance\n",
        "\tfrom sklearn import preprocessing\n",
        "\t_scaler = preprocessing.StandardScaler()\n",
        "\t_x_train_scaled = _scaler.fit_transform(x_train)\n",
        "\n",
        "\t# apply scaling on testing data having into account x_train statistics\n",
        "\tfrom sklearn.pipeline import make_pipeline\n",
        "\tfrom sklearn.linear_model import LogisticRegression\n",
        "\t_x_test = _scaler.fit_transform(x_test)\n",
        "\t_model = LogisticRegression()\n",
        "\t_model.fit(_x_train_scaled, y_train)\n",
        "\t_x_test_scaled = _model.predict(_x_test)\n",
        "\n",
        "\treturn _x_train_scaled, _x_test_scaled"
      ],
      "execution_count": 24,
      "outputs": []
    },
    {
      "cell_type": "markdown",
      "metadata": {
        "id": "uc4-EJJUUiIW"
      },
      "source": [
        "## Loading data"
      ]
    },
    {
      "cell_type": "code",
      "metadata": {
        "colab": {
          "base_uri": "https://localhost:8080/"
        },
        "id": "153eL973Rw50",
        "outputId": "33cfa2f2-9afd-4c98-c74b-268e52b4f4ed"
      },
      "source": [
        "# - loading data\n",
        "digits, X, Y = load_data()\n",
        "describe_data(images=False)"
      ],
      "execution_count": 25,
      "outputs": [
        {
          "output_type": "stream",
          "name": "stdout",
          "text": [
            ".. _digits_dataset:\n",
            "\n",
            "Optical recognition of handwritten digits dataset\n",
            "--------------------------------------------------\n",
            "\n",
            "**Data Set Characteristics:**\n",
            "\n",
            "    :Number of Instances: 1797\n",
            "    :Number of Attributes: 64\n",
            "    :Attribute Information: 8x8 image of integer pixels in the range 0..16.\n",
            "    :Missing Attribute Values: None\n",
            "    :Creator: E. Alpaydin (alpaydin '@' boun.edu.tr)\n",
            "    :Date: July; 1998\n",
            "\n",
            "This is a copy of the test set of the UCI ML hand-written digits datasets\n",
            "https://archive.ics.uci.edu/ml/datasets/Optical+Recognition+of+Handwritten+Digits\n",
            "\n",
            "The data set contains images of hand-written digits: 10 classes where\n",
            "each class refers to a digit.\n",
            "\n",
            "Preprocessing programs made available by NIST were used to extract\n",
            "normalized bitmaps of handwritten digits from a preprinted form. From a\n",
            "total of 43 people, 30 contributed to the training set and different 13\n",
            "to the test set. 32x32 bitmaps are divided into nonoverlapping blocks of\n",
            "4x4 and the number of on pixels are counted in each block. This generates\n",
            "an input matrix of 8x8 where each element is an integer in the range\n",
            "0..16. This reduces dimensionality and gives invariance to small\n",
            "distortions.\n",
            "\n",
            "For info on NIST preprocessing routines, see M. D. Garris, J. L. Blue, G.\n",
            "T. Candela, D. L. Dimmick, J. Geist, P. J. Grother, S. A. Janet, and C.\n",
            "L. Wilson, NIST Form-Based Handprint Recognition System, NISTIR 5469,\n",
            "1994.\n",
            "\n",
            ".. topic:: References\n",
            "\n",
            "  - C. Kaynak (1995) Methods of Combining Multiple Classifiers and Their\n",
            "    Applications to Handwritten Digit Recognition, MSc Thesis, Institute of\n",
            "    Graduate Studies in Science and Engineering, Bogazici University.\n",
            "  - E. Alpaydin, C. Kaynak (1998) Cascading Classifiers, Kybernetika.\n",
            "  - Ken Tang and Ponnuthurai N. Suganthan and Xi Yao and A. Kai Qin.\n",
            "    Linear dimensionalityreduction using relevance weighted LDA. School of\n",
            "    Electrical and Electronic Engineering Nanyang Technological University.\n",
            "    2005.\n",
            "  - Claudio Gentile. A New Approximate Maximal Margin Classification\n",
            "    Algorithm. NIPS. 2000.\n",
            "\n",
            "(1797, 64)\n",
            "(1797,)\n",
            "['pixel_0_0', 'pixel_0_1', 'pixel_0_2', 'pixel_0_3', 'pixel_0_4', 'pixel_0_5', 'pixel_0_6', 'pixel_0_7', 'pixel_1_0', 'pixel_1_1', 'pixel_1_2', 'pixel_1_3', 'pixel_1_4', 'pixel_1_5', 'pixel_1_6', 'pixel_1_7', 'pixel_2_0', 'pixel_2_1', 'pixel_2_2', 'pixel_2_3', 'pixel_2_4', 'pixel_2_5', 'pixel_2_6', 'pixel_2_7', 'pixel_3_0', 'pixel_3_1', 'pixel_3_2', 'pixel_3_3', 'pixel_3_4', 'pixel_3_5', 'pixel_3_6', 'pixel_3_7', 'pixel_4_0', 'pixel_4_1', 'pixel_4_2', 'pixel_4_3', 'pixel_4_4', 'pixel_4_5', 'pixel_4_6', 'pixel_4_7', 'pixel_5_0', 'pixel_5_1', 'pixel_5_2', 'pixel_5_3', 'pixel_5_4', 'pixel_5_5', 'pixel_5_6', 'pixel_5_7', 'pixel_6_0', 'pixel_6_1', 'pixel_6_2', 'pixel_6_3', 'pixel_6_4', 'pixel_6_5', 'pixel_6_6', 'pixel_6_7', 'pixel_7_0', 'pixel_7_1', 'pixel_7_2', 'pixel_7_3', 'pixel_7_4', 'pixel_7_5', 'pixel_7_6', 'pixel_7_7']\n",
            "[0 1 2 3 4 5 6 7 8 9]\n"
          ]
        }
      ]
    },
    {
      "cell_type": "markdown",
      "metadata": {
        "id": "z3h8m2UXUoI_"
      },
      "source": [
        "## Splitting data\n",
        "* 75% Train data.\n",
        "* 25% Test data."
      ]
    },
    {
      "cell_type": "code",
      "metadata": {
        "colab": {
          "base_uri": "https://localhost:8080/"
        },
        "id": "t_nA7ug4R98W",
        "outputId": "da44a74f-af60-48f8-ab97-6fb516f2b9c9"
      },
      "source": [
        "# - split the data 75% train and 25% test subsets\n",
        "from sklearn.model_selection import train_test_split\n",
        "\n",
        "x_train, x_test, y_train, y_test = train_test_split(X, Y, test_size=0.25, random_state=42)\n",
        "print(x_train.shape, x_test.shape, y_train.shape, y_test.shape)"
      ],
      "execution_count": 26,
      "outputs": [
        {
          "output_type": "stream",
          "name": "stdout",
          "text": [
            "(1347, 64) (450, 64) (1347,) (450,)\n"
          ]
        }
      ]
    },
    {
      "cell_type": "markdown",
      "metadata": {
        "id": "RmSWTaBKU2zp"
      },
      "source": [
        "## Preprocessing data"
      ]
    },
    {
      "cell_type": "code",
      "metadata": {
        "colab": {
          "base_uri": "https://localhost:8080/"
        },
        "id": "gigmHHM_R_hX",
        "outputId": "be0642eb-845a-4a08-b659-0d2a7b3812de"
      },
      "source": [
        "# - preprocessing data\n",
        "x_train_scaled, x_test_scaled = preprocess_data()\n",
        "print(x_train_scaled, x_test_scaled)"
      ],
      "execution_count": 27,
      "outputs": [
        {
          "output_type": "stream",
          "name": "stdout",
          "text": [
            "[[ 0.         -0.34658389 -0.67111503 ... -1.15783495 -0.50770266\n",
            "  -0.19895848]\n",
            " [ 0.          5.19793507  2.23828434 ... -0.13881915 -0.26774635\n",
            "  -0.19895848]\n",
            " [ 0.         -0.34658389 -0.25548655 ... -0.81816302 -0.50770266\n",
            "  -0.19895848]\n",
            " ...\n",
            " [ 0.         -0.34658389  0.78358465 ...  1.55954051 -0.02779004\n",
            "  -0.19895848]\n",
            " [ 0.         -0.34658389 -0.87892927 ... -1.15783495 -0.50770266\n",
            "  -0.19895848]\n",
            " [ 0.         -0.34658389 -0.87892927 ... -0.98799898 -0.50770266\n",
            "  -0.19895848]] [6 9 3 7 2 2 5 2 5 2 1 9 4 0 4 2 3 7 8 8 4 3 9 7 5 6 3 5 6 3 4 9 1 4 4 6 9\n",
            " 4 7 6 6 9 1 3 6 1 3 0 6 5 5 1 3 5 6 0 9 0 0 1 0 4 5 2 4 5 7 0 7 5 9 9 5 4\n",
            " 7 0 4 5 5 9 9 0 2 3 8 0 6 4 4 9 1 2 8 3 5 2 9 0 4 4 1 3 5 3 1 3 5 9 4 2 7\n",
            " 7 4 4 1 9 2 7 8 7 2 6 9 4 2 7 2 7 5 8 7 5 7 9 0 6 6 4 2 8 0 9 4 6 9 9 6 9\n",
            " 0 5 5 6 6 0 6 4 3 9 3 8 7 2 9 0 4 5 8 6 5 9 9 8 4 2 1 3 7 7 2 2 3 9 8 0 3\n",
            " 2 2 5 6 9 9 4 1 2 4 2 3 6 4 8 5 9 5 7 8 9 4 8 1 5 4 4 9 6 1 8 6 0 4 5 2 7\n",
            " 1 6 4 5 6 0 3 2 3 6 7 1 9 1 4 7 6 5 8 5 5 1 5 2 8 8 9 9 7 6 2 2 2 3 4 8 8\n",
            " 3 6 0 9 7 7 0 1 0 4 5 1 5 3 6 0 4 1 0 0 3 6 5 9 7 3 5 5 9 9 8 5 3 3 2 0 5\n",
            " 8 3 4 0 2 4 6 4 3 4 5 0 5 2 1 3 1 4 1 1 7 0 1 5 2 1 2 8 7 0 6 4 8 8 5 1 8\n",
            " 4 5 8 7 9 8 6 0 6 2 0 7 9 8 9 5 2 7 7 1 8 7 4 3 8 3 5 6 0 0 3 0 5 0 0 4 1\n",
            " 2 8 4 5 9 6 3 1 8 8 4 2 3 8 9 8 8 5 0 6 3 3 7 1 6 4 1 2 1 1 6 4 7 4 8 3 4\n",
            " 0 5 1 9 4 5 7 6 3 7 0 5 9 7 5 9 7 4 2 2 9 0 7 5 2 3 6 3 9 6 9 5 0 1 5 5 8\n",
            " 3 3 6 2 6 5]\n"
          ]
        }
      ]
    },
    {
      "cell_type": "markdown",
      "metadata": {
        "id": "9KKVUDplU550"
      },
      "source": [
        "## Dimensionality Reduction: PCA Analysis \n",
        "\n",
        "---\n",
        "\n"
      ]
    },
    {
      "cell_type": "code",
      "metadata": {
        "colab": {
          "base_uri": "https://localhost:8080/"
        },
        "id": "ij9Og0SESLso",
        "outputId": "d05f991b-0a9b-45af-c870-c9ddebf9dba6"
      },
      "source": [
        "from sklearn.decomposition import PCA\n",
        "\n",
        "# - PCA Analysis\n",
        "pca = PCA()  # project from 64 to 2 dimensions\n",
        "pca.fit(x_train_scaled)"
      ],
      "execution_count": 28,
      "outputs": [
        {
          "output_type": "execute_result",
          "data": {
            "text/plain": [
              "PCA()"
            ]
          },
          "metadata": {},
          "execution_count": 28
        }
      ]
    },
    {
      "cell_type": "markdown",
      "metadata": {
        "id": "LFWrC3M2Sxom"
      },
      "source": [
        "### PCA explains a part of the variance."
      ]
    },
    {
      "cell_type": "code",
      "metadata": {
        "colab": {
          "base_uri": "https://localhost:8080/"
        },
        "id": "ovrR3axHSQAW",
        "outputId": "f7bbdd1e-dc0d-4375-81eb-5cca12433430"
      },
      "source": [
        "# - the PCA explains a part of the variance.\n",
        "print(pca.components_)\n",
        "print(pca.explained_variance_)\n"
      ],
      "execution_count": 29,
      "outputs": [
        {
          "output_type": "stream",
          "name": "stdout",
          "text": [
            "[[ 2.45769908e-18 -1.93435053e-01 -2.84584362e-01 ... -1.01977598e-01\n",
            "  -1.28763282e-01 -7.46025470e-02]\n",
            " [-3.86280647e-20  4.58912013e-02  6.48072981e-02 ... -2.24909035e-01\n",
            "  -1.52595100e-01 -6.59506368e-02]\n",
            " [ 2.92546202e-19 -3.32616468e-03  7.63072966e-02 ...  2.51047630e-02\n",
            "  -8.80176474e-02 -8.08010464e-02]\n",
            " ...\n",
            " [ 0.00000000e+00 -2.89672775e-16 -6.05869374e-17 ...  3.58220398e-16\n",
            "   2.77555756e-16 -1.11022302e-16]\n",
            " [ 0.00000000e+00 -3.56579139e-17 -2.46493011e-17 ... -2.74519990e-16\n",
            "   1.30971622e-16 -7.45931095e-17]\n",
            " [ 1.00000000e+00  1.87747998e-18  1.53904343e-17 ... -8.02909398e-18\n",
            "  -6.57781674e-18  4.70297171e-19]]\n",
            "[7.39473869e+00 5.92231880e+00 5.25229279e+00 3.90746836e+00\n",
            " 2.97614572e+00 2.64108436e+00 2.41403293e+00 2.07472957e+00\n",
            " 1.85134308e+00 1.79411347e+00 1.69189093e+00 1.55116122e+00\n",
            " 1.38886839e+00 1.37402220e+00 1.29237813e+00 1.16323953e+00\n",
            " 1.07166994e+00 9.85840361e-01 9.70818420e-01 9.23958520e-01\n",
            " 8.18786025e-01 7.78110384e-01 6.73067143e-01 6.35974128e-01\n",
            " 6.04243139e-01 5.66215630e-01 5.24110052e-01 5.08424014e-01\n",
            " 4.80114394e-01 4.55781795e-01 4.28567856e-01 4.18686661e-01\n",
            " 3.95271287e-01 3.72569241e-01 3.47959521e-01 3.29620057e-01\n",
            " 3.03874930e-01 2.85147374e-01 2.77558085e-01 2.61467904e-01\n",
            " 2.49432351e-01 2.37073062e-01 2.20364702e-01 2.05227993e-01\n",
            " 1.93026030e-01 1.85814657e-01 1.73699729e-01 1.67287298e-01\n",
            " 1.54266767e-01 1.37774852e-01 1.33315005e-01 1.15099455e-01\n",
            " 1.14486625e-01 1.08938615e-01 9.92679900e-02 9.12731162e-02\n",
            " 8.77269537e-02 7.87098478e-02 7.49746606e-02 6.25235245e-02\n",
            " 4.73711997e-02 1.94415029e-31 3.00961738e-32 2.84202451e-32]\n"
          ]
        }
      ]
    },
    {
      "cell_type": "markdown",
      "metadata": {
        "id": "UTr2ww86VqcR"
      },
      "source": [
        "###  Plotting the cumulative variance to get the number of principal components we need."
      ]
    },
    {
      "cell_type": "code",
      "metadata": {
        "colab": {
          "base_uri": "https://localhost:8080/",
          "height": 295
        },
        "id": "96JJrFnRVl_d",
        "outputId": "4ccffc22-7508-4ce0-b842-a0f968f0e000"
      },
      "source": [
        "xi = numpy.arange(1, 65, step=1)\n",
        "y = numpy.cumsum(pca.explained_variance_ratio_)\n",
        "\n",
        "fig, ax = plt.subplots()\n",
        "plt.ylim(0.0, 1.1)\n",
        "plt.plot(xi, y, marker='.', linestyle='--', color='b')\n",
        "\n",
        "plt.xlabel('Number of Components')\n",
        "plt.xticks(numpy.arange(0, 64, step=5))  # change from 0-based array index to 1-based human-readable label\n",
        "plt.ylabel('Cumulative variance (%)')\n",
        "plt.title('The number of components needed to explain variance')\n",
        "\n",
        "plt.axhline(y=0.95, color='black', linestyle='-')\n",
        "plt.text(0.5, 1.00, '95% cut-off threshold', color='black', fontsize=12,\n",
        "         backgroundcolor='white')\n",
        "\n",
        "ax.grid(axis='x')\n",
        "plt.show()\n",
        "# We can see how the cut-off threshold crosses with the cumulative variance at 40 number of components.\n",
        "# Hence, this is the number of principals we need."
      ],
      "execution_count": 123,
      "outputs": [
        {
          "output_type": "display_data",
          "data": {
            "image/png": "[encoded data removed]",
            "text/plain": [
              "<Figure size 432x288 with 1 Axes>"
            ]
          },
          "metadata": {
            "needs_background": "light"
          }
        }
      ]
    },
    {
      "cell_type": "markdown",
      "metadata": {
        "id": "UJnU29AgmRjX"
      },
      "source": [
        "## Dimensionality Reduction: SVD Analysis \n",
        "\n",
        "\n"
      ]
    },
    {
      "cell_type": "code",
      "metadata": {
        "id": "h3iNm4ZAmbo7"
      },
      "source": [
        "from sklearn.decomposition import TruncatedSVD\n",
        "\n",
        "tsvd = TruncatedSVD(63)\n",
        "projected_svd = tsvd.fit(x_train_scaled)"
      ],
      "execution_count": 31,
      "outputs": []
    },
    {
      "cell_type": "markdown",
      "metadata": {
        "id": "iE-JkNEozMoO"
      },
      "source": [
        "### Same analysis as PCA: obtaining the best number of components for SVD."
      ]
    },
    {
      "cell_type": "code",
      "metadata": {
        "colab": {
          "base_uri": "https://localhost:8080/",
          "height": 295
        },
        "id": "donP7T2-tDsS",
        "outputId": "4a6d34e7-ed83-446b-a713-73a07ff62bbb"
      },
      "source": [
        "xi = numpy.arange(1, 64, step=1)\n",
        "y = numpy.cumsum(tsvd.explained_variance_ratio_)\n",
        "\n",
        "fig, ax = plt.subplots()\n",
        "\n",
        "plt.ylim(0.0, 1.1)\n",
        "plt.plot(xi, y, marker='.', linestyle='--', color='b')\n",
        "\n",
        "plt.xlabel('Number of Components')\n",
        "plt.xticks(numpy.arange(0, 64, step=5))  # change from 0-based array index to 1-based human-readable label\n",
        "plt.ylabel('Cumulative variance (%)')\n",
        "plt.title('The number of components needed to explain variance')\n",
        "\n",
        "plt.axhline(y=0.95, color='black', linestyle='-')\n",
        "plt.text(0.5, 1.00, '95% cut-off threshold', color='black', fontsize=12,\n",
        "         backgroundcolor='white')\n",
        "\n",
        "ax.grid(axis='x')\n",
        "plt.show()\n",
        "# We can see how the cut-off threshold crosses with the cumulative variance at 40 number of components.\n",
        "# Hence, this is the number of principals we need."
      ],
      "execution_count": 122,
      "outputs": [
        {
          "output_type": "display_data",
          "data": {
            "image/png": "[encoded data removed]",
            "text/plain": [
              "<Figure size 432x288 with 1 Axes>"
            ]
          },
          "metadata": {
            "needs_background": "light"
          }
        }
      ]
    },
    {
      "cell_type": "markdown",
      "metadata": {
        "id": "-fy3gjNSzcoN"
      },
      "source": [
        "## Applying a dimension reduction choosing a 95% of variance explained"
      ]
    },
    {
      "cell_type": "code",
      "metadata": {
        "colab": {
          "base_uri": "https://localhost:8080/"
        },
        "id": "9wibyuNdzheT",
        "outputId": "6632c200-5d99-4bb4-ff78-f8d1b8aa4ce5"
      },
      "source": [
        "projected_pca = PCA(40).fit_transform(x_train_scaled)\n",
        "print(\"projected pca:\", projected_pca)"
      ],
      "execution_count": 33,
      "outputs": [
        {
          "output_type": "stream",
          "name": "stdout",
          "text": [
            "projected pca: [[ 3.84342510e+00 -4.83794281e-02  3.24945164e-01 ... -7.87700992e-02\n",
            "   3.09972578e-01  3.75589259e-02]\n",
            " [-6.95138937e+00  1.22684091e-03 -1.30460067e+00 ...  6.48018395e-02\n",
            "   3.85907556e-01  2.57853192e-02]\n",
            " [ 2.03729421e+00 -2.36663154e+00  2.93343109e+00 ...  4.12428431e-01\n",
            "   4.20804558e-01 -6.08236308e-01]\n",
            " ...\n",
            " [-1.57690257e+00  2.35806588e+00 -5.32194237e-01 ...  8.95120888e-02\n",
            "  -1.33389396e+00  3.40812426e-01]\n",
            " [ 1.75467867e+00  1.77346538e+00 -3.24232996e-01 ...  5.53791880e-01\n",
            "  -6.00024212e-01  1.03595252e-01]\n",
            " [ 2.43082530e-01 -4.00225472e-01 -4.46336927e+00 ...  3.45018121e-03\n",
            "  -1.22276577e-01  1.34611699e-01]]\n"
          ]
        }
      ]
    },
    {
      "cell_type": "code",
      "metadata": {
        "colab": {
          "base_uri": "https://localhost:8080/"
        },
        "id": "fzteh0RZ0mMW",
        "outputId": "7d88c00b-35e7-4ddf-dceb-4c4df51032be"
      },
      "source": [
        "projected_svd = TruncatedSVD(39).fit_transform(projected_pca)\n",
        "print(\"projected svd:\", projected_svd)"
      ],
      "execution_count": 34,
      "outputs": [
        {
          "output_type": "stream",
          "name": "stdout",
          "text": [
            "projected svd: [[ 3.84342510e+00 -4.83794281e-02  3.24945164e-01 ...  2.16312814e-01\n",
            "  -7.87700992e-02  3.09972578e-01]\n",
            " [-6.95138937e+00  1.22684091e-03 -1.30460067e+00 ... -7.16049555e-01\n",
            "   6.48018395e-02  3.85907556e-01]\n",
            " [ 2.03729421e+00 -2.36663154e+00  2.93343109e+00 ... -3.68934265e-01\n",
            "   4.12428431e-01  4.20804558e-01]\n",
            " ...\n",
            " [-1.57690257e+00  2.35806588e+00 -5.32194237e-01 ...  1.03014704e+00\n",
            "   8.95120888e-02 -1.33389396e+00]\n",
            " [ 1.75467867e+00  1.77346538e+00 -3.24232996e-01 ... -4.55976257e-01\n",
            "   5.53791880e-01 -6.00024212e-01]\n",
            " [ 2.43082530e-01 -4.00225472e-01 -4.46336927e+00 ...  1.21026114e-01\n",
            "   3.45018121e-03 -1.22276577e-01]]\n"
          ]
        }
      ]
    },
    {
      "cell_type": "markdown",
      "metadata": {
        "id": "rCdv38JF072t"
      },
      "source": [
        "## Find the k optimal value for the k-NN classifier using 10-fold cross-validation"
      ]
    },
    {
      "cell_type": "markdown",
      "metadata": {
        "id": "IoMSIMIw5JDF"
      },
      "source": [
        "### Creating the model"
      ]
    },
    {
      "cell_type": "code",
      "metadata": {
        "id": "FBGIxzoi5KpD"
      },
      "source": [
        "from sklearn.model_selection import GridSearchCV\n",
        "from sklearn.neighbors import KNeighborsClassifier\n",
        "\n",
        "knn = KNeighborsClassifier()"
      ],
      "execution_count": 81,
      "outputs": []
    },
    {
      "cell_type": "markdown",
      "metadata": {
        "id": "t16HxytV5Qk6"
      },
      "source": [
        "### Creating a dictionary with all the values we want to try\n",
        "In this case, we will do a 10-fold cross validation."
      ]
    },
    {
      "cell_type": "code",
      "metadata": {
        "id": "flylX6Xc04co"
      },
      "source": [
        "from sklearn.model_selection import GridSearchCV\n",
        "\n",
        "param_grid = {'n_neighbors': numpy.arange(1, 10)}"
      ],
      "execution_count": 82,
      "outputs": []
    },
    {
      "cell_type": "markdown",
      "metadata": {
        "id": "y5aZSF6l5emf"
      },
      "source": [
        "### Using gridsearch to test all values for `n_neighbors`"
      ]
    },
    {
      "cell_type": "code",
      "metadata": {
        "id": "FXItC6Bt5d3S"
      },
      "source": [
        "knn_gscv = GridSearchCV(knn, param_grid, cv=5)\n"
      ],
      "execution_count": 83,
      "outputs": []
    },
    {
      "cell_type": "markdown",
      "metadata": {
        "id": "H1KcTv-G5lcv"
      },
      "source": [
        "### Fit model to data"
      ]
    },
    {
      "cell_type": "code",
      "metadata": {
        "colab": {
          "base_uri": "https://localhost:8080/"
        },
        "id": "XEB_AXvF5l_C",
        "outputId": "b268a633-eb63-43d3-dfef-f0c09854d96b"
      },
      "source": [
        "knn_gscv.fit(x_train, y_train)"
      ],
      "execution_count": 84,
      "outputs": [
        {
          "output_type": "execute_result",
          "data": {
            "text/plain": [
              "GridSearchCV(cv=5, estimator=KNeighborsClassifier(),\n",
              "             param_grid={'n_neighbors': array([1, 2, 3, 4, 5, 6, 7, 8, 9])})"
            ]
          },
          "metadata": {},
          "execution_count": 84
        }
      ]
    },
    {
      "cell_type": "markdown",
      "metadata": {
        "id": "c5kzHldl5rOu"
      },
      "source": [
        "### Check best performing `n_neighbors` value (cross-validating)\n",
        "\n",
        "> Bloc con sangría\n",
        "\n"
      ]
    },
    {
      "cell_type": "code",
      "metadata": {
        "colab": {
          "base_uri": "https://localhost:8080/"
        },
        "id": "HyNFi2pl5qnH",
        "outputId": "9b1420c4-c2af-49ad-dde9-d270eb0411b1"
      },
      "source": [
        "print('best params:', knn_gscv.best_params_)"
      ],
      "execution_count": 85,
      "outputs": [
        {
          "output_type": "stream",
          "name": "stdout",
          "text": [
            "best params: {'n_neighbors': 1}\n"
          ]
        }
      ]
    },
    {
      "cell_type": "markdown",
      "metadata": {
        "id": "HPCfSUU65zGP"
      },
      "source": [
        "### Best score output"
      ]
    },
    {
      "cell_type": "code",
      "metadata": {
        "colab": {
          "base_uri": "https://localhost:8080/"
        },
        "id": "64Hdjqki5yoT",
        "outputId": "66546f0d-85f5-4ce6-e004-3ec6d7e3a260"
      },
      "source": [
        "print('best score:', knn_gscv.best_score_)"
      ],
      "execution_count": 86,
      "outputs": [
        {
          "output_type": "stream",
          "name": "stdout",
          "text": [
            "best score: 0.9866363761531047\n"
          ]
        }
      ]
    },
    {
      "cell_type": "markdown",
      "metadata": {
        "id": "p_uq7d0-Te2a"
      },
      "source": [
        "## Training/fitting KNN Classifier "
      ]
    },
    {
      "cell_type": "code",
      "metadata": {
        "id": "paNc-PaPGXHs"
      },
      "source": [
        "n_neighbors = knn_gscv.best_params_[\"n_neighbors\"]  # 3 neighbors\n",
        "clf = KNeighborsClassifier(n_neighbors=n_neighbors)"
      ],
      "execution_count": 87,
      "outputs": []
    },
    {
      "cell_type": "markdown",
      "metadata": {
        "id": "aRoS5kmyUANg"
      },
      "source": [
        "### Learn the digits from the subset"
      ]
    },
    {
      "cell_type": "code",
      "metadata": {
        "colab": {
          "base_uri": "https://localhost:8080/"
        },
        "id": "SB47dOgmUDpM",
        "outputId": "faa75f16-e60d-4f5e-ea00-770901dda92a"
      },
      "source": [
        "clf.fit(x_train, y_train)"
      ],
      "execution_count": 88,
      "outputs": [
        {
          "output_type": "execute_result",
          "data": {
            "text/plain": [
              "KNeighborsClassifier(n_neighbors=1)"
            ]
          },
          "metadata": {},
          "execution_count": 88
        }
      ]
    },
    {
      "cell_type": "markdown",
      "metadata": {
        "id": "pqzhGcjuW2fU"
      },
      "source": [
        "### Predict digit values from test subset"
      ]
    },
    {
      "cell_type": "code",
      "metadata": {
        "colab": {
          "base_uri": "https://localhost:8080/"
        },
        "id": "f7gcI5NDW6q-",
        "outputId": "17ec6d77-0ea8-4f23-fe1a-708303a6ec5f"
      },
      "source": [
        "predicted = clf.predict(x_test)\n",
        "print(predicted)"
      ],
      "execution_count": 89,
      "outputs": [
        {
          "output_type": "stream",
          "name": "stdout",
          "text": [
            "[6 9 3 7 2 1 5 2 5 2 1 9 4 0 4 2 3 7 8 8 4 3 9 7 5 6 3 5 6 3 4 9 1 4 4 6 9\n",
            " 4 7 6 6 9 1 3 6 1 3 0 6 5 5 1 3 5 6 0 9 0 0 1 0 4 5 2 4 5 7 0 7 5 9 5 5 4\n",
            " 7 0 4 5 5 9 9 0 2 3 8 0 6 4 4 9 1 2 8 3 5 2 9 0 4 4 4 3 5 3 1 3 5 9 4 2 7\n",
            " 7 4 4 1 9 2 7 9 7 2 6 9 4 0 7 2 7 5 8 7 5 7 9 0 6 6 4 2 8 0 9 4 6 9 9 6 9\n",
            " 0 3 5 6 6 0 6 4 3 9 3 4 7 2 9 0 4 5 3 6 5 9 9 8 4 2 1 3 7 7 2 2 3 9 8 0 3\n",
            " 2 2 5 6 9 9 4 1 5 4 2 3 6 4 8 5 9 5 7 1 9 4 8 1 5 4 4 9 6 1 8 6 0 4 5 2 7\n",
            " 1 6 4 5 6 0 3 2 3 6 7 1 5 1 4 7 6 8 8 5 5 1 6 2 8 8 9 5 7 6 2 2 2 3 4 8 8\n",
            " 3 6 0 9 7 7 0 1 0 4 5 1 5 3 6 0 4 1 0 0 3 6 5 9 7 3 5 5 9 9 8 5 3 3 2 0 5\n",
            " 8 3 4 0 2 4 6 4 3 4 5 0 5 2 1 3 1 4 1 1 7 0 1 5 2 1 2 8 7 0 6 4 8 8 5 1 8\n",
            " 4 5 8 7 9 8 5 0 6 2 0 7 9 8 9 5 2 7 7 1 8 7 4 3 8 3 5 6 0 0 3 0 5 0 0 4 1\n",
            " 2 8 4 5 9 6 3 1 8 8 4 2 3 8 9 8 8 5 0 6 3 3 7 1 6 4 1 2 1 1 6 4 7 4 8 3 4\n",
            " 0 5 1 9 4 5 7 6 3 7 0 5 9 7 5 9 7 4 2 1 9 0 7 5 8 3 6 3 9 6 9 5 0 1 5 5 8\n",
            " 3 3 6 2 6 5]\n"
          ]
        }
      ]
    },
    {
      "cell_type": "markdown",
      "metadata": {
        "id": "uKYJS1vpXG8a"
      },
      "source": [
        "### Testing its correctness/score "
      ]
    },
    {
      "cell_type": "code",
      "metadata": {
        "colab": {
          "base_uri": "https://localhost:8080/"
        },
        "id": "ifUctqBtXL5m",
        "outputId": "94faed31-5e69-4171-947c-9e73a725d82b"
      },
      "source": [
        "clf.score(x_test,y_test)"
      ],
      "execution_count": 90,
      "outputs": [
        {
          "output_type": "execute_result",
          "data": {
            "text/plain": [
              "0.9822222222222222"
            ]
          },
          "metadata": {},
          "execution_count": 90
        }
      ]
    },
    {
      "cell_type": "markdown",
      "metadata": {
        "id": "jQyO6j9QcSfb"
      },
      "source": [
        "## K Neighbours Analysis: different classsifier performances varying the number of `k`"
      ]
    },
    {
      "cell_type": "markdown",
      "metadata": {
        "id": "3uLyZQ96iyrl"
      },
      "source": [
        "### Varying the number of `k` from 1 to 25"
      ]
    },
    {
      "cell_type": "code",
      "metadata": {
        "colab": {
          "base_uri": "https://localhost:8080/"
        },
        "id": "MdMT-g9bgUPU",
        "outputId": "7ab45698-c422-4e14-c49f-c7a4cf3e6552"
      },
      "source": [
        "scores_array = []\n",
        "for i in range(25):\n",
        "  k = i + 1\n",
        "  aux_knn = KNeighborsClassifier(n_neighbors=k)\n",
        "  aux_knn.fit(x_train, y_train)\n",
        "  score = aux_knn.score(x_test, y_test)\n",
        "  scores_array.append(score)\n",
        "\n",
        "print(scores_array)"
      ],
      "execution_count": 92,
      "outputs": [
        {
          "output_type": "stream",
          "name": "stdout",
          "text": [
            "[0.9822222222222222, 0.9844444444444445, 0.9866666666666667, 0.9866666666666667, 0.9933333333333333, 0.9955555555555555, 0.9933333333333333, 0.9888888888888889, 0.9866666666666667, 0.9866666666666667, 0.98, 0.98, 0.98, 0.9822222222222222, 0.98, 0.9777777777777777, 0.98, 0.9777777777777777, 0.9777777777777777, 0.9777777777777777, 0.9777777777777777, 0.98, 0.9777777777777777, 0.9755555555555555, 0.9733333333333334]\n"
          ]
        }
      ]
    },
    {
      "cell_type": "markdown",
      "metadata": {
        "id": "gQCxBqBVixsk"
      },
      "source": [
        "## Plotting the results"
      ]
    },
    {
      "cell_type": "code",
      "metadata": {
        "colab": {
          "base_uri": "https://localhost:8080/",
          "height": 295
        },
        "id": "EQ6tGQ6Lgkvc",
        "outputId": "a5c756b1-a1b9-4df8-a230-8f1d6c7b1f5f"
      },
      "source": [
        "xi = numpy.arange(1, 26, step=1)\n",
        "y = scores_array\n",
        "\n",
        "fig, ax = plt.subplots()\n",
        "plt.ylim(0.97, 1.01)\n",
        "plt.plot(xi, y, marker='.', linestyle='--', color='b')\n",
        "\n",
        "plt.xlabel('Number of neighbours (k)')\n",
        "plt.xticks(numpy.arange(1, 26, step=1))  \n",
        "plt.ylabel('Scores')\n",
        "plt.title('KNN Classifier performance varying k neighbors from 1 to 25')\n",
        "\n",
        "plt.axvline(x=3, color='r', linestyle='-')\n",
        "plt.text(3.5, 1, 'Chosen number of neighbours', color='red', fontsize=14, \n",
        "         backgroundcolor='white')\n",
        "ax.grid(axis='x')\n",
        "plt.show()"
      ],
      "execution_count": 115,
      "outputs": [
        {
          "output_type": "display_data",
          "data": {
            "image/png": "[encoded data removed]",
            "text/plain": [
              "<Figure size 432x288 with 1 Axes>"
            ]
          },
          "metadata": {
            "needs_background": "light"
          }
        }
      ]
    },
    {
      "cell_type": "markdown",
      "metadata": {
        "id": "BUOftftWoqjr"
      },
      "source": [
        "## References\n",
        "\n",
        "https://www.mikulskibartosz.name/pca-how-to-choose-the-number-of-components/\n",
        "\n",
        "https://towardsdatascience.com/building-a-k-nearest-neighbors-k-nn-model-with-scikit-learn-51209555453a\n",
        "\n",
        "https://scikit-learn.org/stable/modules/generated/sklearn.decomposition.PCA.html\n",
        "\n",
        "https://scikit-learn.org/stable/modules/generated/sklearn.decomposition.TruncatedSVD.html\n",
        "\n",
        "https://scikit-learn.org/stable/modules/generated/sklearn.neighbors.KNeighborsClassifier.html\n",
        "\n",
        "https://etav.github.io/python/scikit_pca.html\n",
        "\n",
        "https://analyticsindiamag.com/beginners-guide-to-truncated-svd-for-dimensionality-reduction/"
      ]
    },
    {
      "cell_type": "markdown",
      "metadata": {
        "id": "6F5QqjY-qBxp"
      },
      "source": [
        "_Javier Merida\\\n",
        "Barcelona. December, 2021_"
      ]
    }
  ]
}