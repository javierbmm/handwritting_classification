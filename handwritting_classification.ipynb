{
  "nbformat": 4,
  "nbformat_minor": 0,
  "metadata": {
    "colab": {
      "name": "handwritting-classification.ipynb",
      "provenance": [],
      "authorship_tag": "ABX9TyM9aNAs5iaOTsSE8cUDClYG",
      "include_colab_link": true
    },
    "kernelspec": {
      "name": "python3",
      "display_name": "Python 3"
    },
    "language_info": {
      "name": "python"
    }
  },
  "cells": [
    {
      "cell_type": "markdown",
      "metadata": {
        "id": "view-in-github",
        "colab_type": "text"
      },
      "source": [
        "<a href=\"https://colab.research.google.com/github/javierbmm/handwritting_classification/blob/main/handwritting_classification.ipynb\" target=\"_parent\"><img src=\"https://colab.research.google.com/assets/colab-badge.svg\" alt=\"Open In Colab\"/></a>"
      ]
    },
    {
      "cell_type": "markdown",
      "metadata": {
        "id": "mYkQIYmmc5fs"
      },
      "source": [
        "# Handwritting Classification\n",
        "\n",
        "Classification of handwritting numbers (from 0 to 9) using KNN neighbours algorithm, implementing preprocessing, scaling and tuning data techniques for dimensionality reduction:\n",
        "* **PCA**: Principal component analysis.\n",
        "* **TruncatedSVD**: Truncated singular value decomposition (aka LSA)\n",
        "\n",
        "More details on implementation and algorithm explanations throughout this notebook. \n",
        "\n",
        "________________________________________________\n",
        "_Javier Merida_\n",
        "\n",
        "\n",
        "_Barcelona, December 2021._"
      ]
    },
    {
      "cell_type": "markdown",
      "metadata": {
        "id": "B4bd3Tm4Uacy"
      },
      "source": [
        "## Loading main libraries"
      ]
    },
    {
      "cell_type": "code",
      "metadata": {
        "id": "-IcJauctQtm8"
      },
      "source": [
        "# -libraries\n",
        "import numpy\n",
        "import sklearn\n",
        "import sklearn.datasets\n",
        "import sklearn.model_selection\n",
        "import sklearn.decomposition\n",
        "\n",
        "# - visualization\n",
        "import matplotlib.pyplot as plt"
      ],
      "execution_count": 386,
      "outputs": []
    },
    {
      "cell_type": "markdown",
      "metadata": {
        "id": "MtqF4nC3S0VU"
      },
      "source": [
        "## Auxiliar functions"
      ]
    },
    {
      "cell_type": "code",
      "metadata": {
        "id": "bqOWE4FpRqQT"
      },
      "source": [
        "# - Functions\n",
        "def load_data():\n",
        "\t'''\n",
        "\tLoad the handwritting digits data and divide it into X (data) and Y (target)\n",
        "\t'''\n",
        "\n",
        "\t_digits = sklearn.datasets.load_digits()\n",
        "\t_X = _digits.data\n",
        "\t_Y = _digits.target\n",
        "\treturn _digits, _X, _Y\n",
        "\n",
        "\n",
        "def describe_data(images=False):\n",
        "\t'''\n",
        "\tPrints the digits description along with X and Y shapes, feature and target \n",
        "\tnames. If images=True, it will also display the first 10 images. \n",
        "\t'''\n",
        "\tprint(digits.DESCR)\n",
        "\tprint('X shape:', X.shape)\n",
        "\tprint('Y shape:', Y.shape)\n",
        "\tprint('Feature names:', digits.feature_names)\n",
        "\tprint('Target names:', digits.target_names)\n",
        "\tif images:\n",
        "\t\tplt.gray()\n",
        "\t\tfor i in range(10):\n",
        "\t\t\tplt.matshow(digits.images[i])\n",
        "\t\t\tplt.show()\n",
        "\n",
        "\n",
        "def preprocess_data():\n",
        "\t'''\n",
        "\tPreprocessing data using normalization to obtain a zero mean and unit variance,\n",
        "\tand applies scaling on testing data having into account x_train statistics,\n",
        "\tusing a Logistic Regression om it. \n",
        "\t'''\n",
        "\t# - Data normalization \n",
        "\tfrom sklearn import preprocessing\n",
        "\t_scaler = preprocessing.StandardScaler()\n",
        "\t_scaler.fit(x_train)\n",
        "  # Scale train data\n",
        "\t_x_train_scaled = _scaler.transform(x_train)\n",
        "\t# Scaling on testing data having into account x_train statistics\n",
        "\t_x_test_scaled = _scaler.transform(x_test)\n",
        "\n",
        "\treturn _x_train_scaled, _x_test_scaled"
      ],
      "execution_count": 387,
      "outputs": []
    },
    {
      "cell_type": "markdown",
      "metadata": {
        "id": "uc4-EJJUUiIW"
      },
      "source": [
        "## Loading data\n",
        "As we can see, the dataset is made of 1797 instances (images) with 64 attributes. Each image is made of 8x8 pixels and represents a handwritten number from 0 to 9 in black and white, which we will try to classify according to its data. "
      ]
    },
    {
      "cell_type": "code",
      "metadata": {
        "colab": {
          "base_uri": "https://localhost:8080/",
          "height": 1000
        },
        "id": "153eL973Rw50",
        "outputId": "a04fa605-e56e-49b2-e805-5cdd9df8f336"
      },
      "source": [
        "# - loading data\n",
        "digits, X, Y = load_data()\n",
        "describe_data(images=True)"
      ],
      "execution_count": 388,
      "outputs": [
        {
          "output_type": "stream",
          "name": "stdout",
          "text": [
            ".. _digits_dataset:\n",
            "\n",
            "Optical recognition of handwritten digits dataset\n",
            "--------------------------------------------------\n",
            "\n",
            "**Data Set Characteristics:**\n",
            "\n",
            "    :Number of Instances: 1797\n",
            "    :Number of Attributes: 64\n",
            "    :Attribute Information: 8x8 image of integer pixels in the range 0..16.\n",
            "    :Missing Attribute Values: None\n",
            "    :Creator: E. Alpaydin (alpaydin '@' boun.edu.tr)\n",
            "    :Date: July; 1998\n",
            "\n",
            "This is a copy of the test set of the UCI ML hand-written digits datasets\n",
            "https://archive.ics.uci.edu/ml/datasets/Optical+Recognition+of+Handwritten+Digits\n",
            "\n",
            "The data set contains images of hand-written digits: 10 classes where\n",
            "each class refers to a digit.\n",
            "\n",
            "Preprocessing programs made available by NIST were used to extract\n",
            "normalized bitmaps of handwritten digits from a preprinted form. From a\n",
            "total of 43 people, 30 contributed to the training set and different 13\n",
            "to the test set. 32x32 bitmaps are divided into nonoverlapping blocks of\n",
            "4x4 and the number of on pixels are counted in each block. This generates\n",
            "an input matrix of 8x8 where each element is an integer in the range\n",
            "0..16. This reduces dimensionality and gives invariance to small\n",
            "distortions.\n",
            "\n",
            "For info on NIST preprocessing routines, see M. D. Garris, J. L. Blue, G.\n",
            "T. Candela, D. L. Dimmick, J. Geist, P. J. Grother, S. A. Janet, and C.\n",
            "L. Wilson, NIST Form-Based Handprint Recognition System, NISTIR 5469,\n",
            "1994.\n",
            "\n",
            ".. topic:: References\n",
            "\n",
            "  - C. Kaynak (1995) Methods of Combining Multiple Classifiers and Their\n",
            "    Applications to Handwritten Digit Recognition, MSc Thesis, Institute of\n",
            "    Graduate Studies in Science and Engineering, Bogazici University.\n",
            "  - E. Alpaydin, C. Kaynak (1998) Cascading Classifiers, Kybernetika.\n",
            "  - Ken Tang and Ponnuthurai N. Suganthan and Xi Yao and A. Kai Qin.\n",
            "    Linear dimensionalityreduction using relevance weighted LDA. School of\n",
            "    Electrical and Electronic Engineering Nanyang Technological University.\n",
            "    2005.\n",
            "  - Claudio Gentile. A New Approximate Maximal Margin Classification\n",
            "    Algorithm. NIPS. 2000.\n",
            "\n",
            "X shape: (1797, 64)\n",
            "Y shape: (1797,)\n",
            "Feature names: ['pixel_0_0', 'pixel_0_1', 'pixel_0_2', 'pixel_0_3', 'pixel_0_4', 'pixel_0_5', 'pixel_0_6', 'pixel_0_7', 'pixel_1_0', 'pixel_1_1', 'pixel_1_2', 'pixel_1_3', 'pixel_1_4', 'pixel_1_5', 'pixel_1_6', 'pixel_1_7', 'pixel_2_0', 'pixel_2_1', 'pixel_2_2', 'pixel_2_3', 'pixel_2_4', 'pixel_2_5', 'pixel_2_6', 'pixel_2_7', 'pixel_3_0', 'pixel_3_1', 'pixel_3_2', 'pixel_3_3', 'pixel_3_4', 'pixel_3_5', 'pixel_3_6', 'pixel_3_7', 'pixel_4_0', 'pixel_4_1', 'pixel_4_2', 'pixel_4_3', 'pixel_4_4', 'pixel_4_5', 'pixel_4_6', 'pixel_4_7', 'pixel_5_0', 'pixel_5_1', 'pixel_5_2', 'pixel_5_3', 'pixel_5_4', 'pixel_5_5', 'pixel_5_6', 'pixel_5_7', 'pixel_6_0', 'pixel_6_1', 'pixel_6_2', 'pixel_6_3', 'pixel_6_4', 'pixel_6_5', 'pixel_6_6', 'pixel_6_7', 'pixel_7_0', 'pixel_7_1', 'pixel_7_2', 'pixel_7_3', 'pixel_7_4', 'pixel_7_5', 'pixel_7_6', 'pixel_7_7']\n",
            "Target names: [0 1 2 3 4 5 6 7 8 9]\n"
          ]
        },
        {
          "output_type": "display_data",
          "data": {
            "text/plain": [
              "<Figure size 432x288 with 0 Axes>"
            ]
          },
          "metadata": {}
        },
        {
          "output_type": "display_data",
          "data": {
            "image/png": "[encoded data removed]",
            "text/plain": [
              "<Figure size 288x288 with 1 Axes>"
            ]
          },
          "metadata": {
            "needs_background": "light"
          }
        },
        {
          "output_type": "display_data",
          "data": {
            "image/png": "[encoded data removed]",
            "text/plain": [
              "<Figure size 288x288 with 1 Axes>"
            ]
          },
          "metadata": {
            "needs_background": "light"
          }
        },
        {
          "output_type": "display_data",
          "data": {
            "image/png": "[encoded data removed]",
            "text/plain": [
              "<Figure size 288x288 with 1 Axes>"
            ]
          },
          "metadata": {
            "needs_background": "light"
          }
        },
        {
          "output_type": "display_data",
          "data": {
            "image/png": "[encoded data removed]",
            "text/plain": [
              "<Figure size 288x288 with 1 Axes>"
            ]
          },
          "metadata": {
            "needs_background": "light"
          }
        },
        {
          "output_type": "display_data",
          "data": {
            "image/png": "[encoded data removed]",
            "text/plain": [
              "<Figure size 288x288 with 1 Axes>"
            ]
          },
          "metadata": {
            "needs_background": "light"
          }
        },
        {
          "output_type": "display_data",
          "data": {
            "image/png": "[encoded data removed]",
            "text/plain": [
              "<Figure size 288x288 with 1 Axes>"
            ]
          },
          "metadata": {
            "needs_background": "light"
          }
        },
        {
          "output_type": "display_data",
          "data": {
            "image/png": "[encoded data removed]",
            "text/plain": [
              "<Figure size 288x288 with 1 Axes>"
            ]
          },
          "metadata": {
            "needs_background": "light"
          }
        },
        {
          "output_type": "display_data",
          "data": {
            "image/png": "[encoded data removed]",
            "text/plain": [
              "<Figure size 288x288 with 1 Axes>"
            ]
          },
          "metadata": {
            "needs_background": "light"
          }
        },
        {
          "output_type": "display_data",
          "data": {
            "image/png": "[encoded data removed]",
            "text/plain": [
              "<Figure size 288x288 with 1 Axes>"
            ]
          },
          "metadata": {
            "needs_background": "light"
          }
        },
        {
          "output_type": "display_data",
          "data": {
            "image/png": "[encoded data removed]",
            "text/plain": [
              "<Figure size 288x288 with 1 Axes>"
            ]
          },
          "metadata": {
            "needs_background": "light"
          }
        }
      ]
    },
    {
      "cell_type": "markdown",
      "metadata": {
        "id": "z3h8m2UXUoI_"
      },
      "source": [
        "## Splitting data\n",
        "\n",
        "Splitting data is a pre-step which purpose is to evaluate the performance of a \n",
        "machine learning algorithm, and it's done prior to processing this data. \n",
        "\n",
        "The procedure involves taking the dataset and splitting it into two subsets: Train data, which is used to fit and train the algorithm or machine learning technique, and Test data, which is used to compare the predictions made to these expected values. \n",
        "\n",
        "Thus, in this case we will use the following dimensions for both subsets:\n",
        "* 75% Train data (1347 samples).\n",
        "* 25% Test data (450 samples)."
      ]
    },
    {
      "cell_type": "code",
      "metadata": {
        "colab": {
          "base_uri": "https://localhost:8080/"
        },
        "id": "t_nA7ug4R98W",
        "outputId": "f7dadbc5-1c7b-446c-9626-4538e6dcedcc"
      },
      "source": [
        "# - split the data 75% train and 25% test subsets\n",
        "from sklearn.model_selection import train_test_split\n",
        "\n",
        "x_train, x_test, y_train, y_test = train_test_split(X, Y, test_size=0.25, random_state=42)\n",
        "print(x_train.shape, x_test.shape, y_train.shape, y_test.shape)"
      ],
      "execution_count": 389,
      "outputs": [
        {
          "output_type": "stream",
          "name": "stdout",
          "text": [
            "(1347, 64) (450, 64) (1347,) (450,)\n"
          ]
        }
      ]
    },
    {
      "cell_type": "markdown",
      "metadata": {
        "id": "RmSWTaBKU2zp"
      },
      "source": [
        "## Preprocessing data\n",
        "\n",
        "### Data normalization\n",
        "Also known as **Feature Scaling**, it's preprocessing technique that is not always required in machine learning algorithms, but it may be helpful as it allows us to change the numerical values of our data into a common scale (ie. from 0 to 1), without changing the differences in ranges values nor the type of distribution. \n",
        "\n",
        "**Normalization** is specially important in KNN neighbours since the algorithm uses distance measure, and features with larger values will be dominant, thus the final result correctness will be distorted. "
      ]
    },
    {
      "cell_type": "code",
      "metadata": {
        "colab": {
          "base_uri": "https://localhost:8080/"
        },
        "id": "gigmHHM_R_hX",
        "outputId": "aa451506-9414-461e-a240-d717fa749dcf"
      },
      "source": [
        "# - preprocessing data\n",
        "x_train_scaled, x_test_scaled = preprocess_data()\n",
        "print(\"Train data:\", x_train_scaled, \"\\nTest data:\", x_test_scaled)"
      ],
      "execution_count": 390,
      "outputs": [
        {
          "output_type": "stream",
          "name": "stdout",
          "text": [
            "Train data: [[ 0.         -0.34658389 -0.67111503 ... -1.15783495 -0.50770266\n",
            "  -0.19895848]\n",
            " [ 0.          5.19793507  2.23828434 ... -0.13881915 -0.26774635\n",
            "  -0.19895848]\n",
            " [ 0.         -0.34658389 -0.25548655 ... -0.81816302 -0.50770266\n",
            "  -0.19895848]\n",
            " ...\n",
            " [ 0.         -0.34658389  0.78358465 ...  1.55954051 -0.02779004\n",
            "  -0.19895848]\n",
            " [ 0.         -0.34658389 -0.87892927 ... -1.15783495 -0.50770266\n",
            "  -0.19895848]\n",
            " [ 0.         -0.34658389 -0.87892927 ... -0.98799898 -0.50770266\n",
            "  -0.19895848]] \n",
            "Test data: [[ 0.         -0.34658389 -1.08674351 ...  1.21986858  0.69207889\n",
            "  -0.19895848]\n",
            " [ 0.         -0.34658389  1.19921313 ... -0.98799898 -0.50770266\n",
            "  -0.19895848]\n",
            " [ 0.         -0.34658389  0.57577041 ...  0.20085278 -0.50770266\n",
            "  -0.19895848]\n",
            " ...\n",
            " [ 0.          0.7623199   1.61484161 ...  0.88019664  0.69207889\n",
            "  -0.19895848]\n",
            " [ 0.         -0.34658389 -1.08674351 ... -0.30865512 -0.50770266\n",
            "  -0.19895848]\n",
            " [ 0.          6.30683886  2.23828434 ... -1.15783495 -0.50770266\n",
            "  -0.19895848]]\n"
          ]
        }
      ]
    },
    {
      "cell_type": "markdown",
      "metadata": {
        "id": "9KKVUDplU550"
      },
      "source": [
        "## Dimensionality Reduction: [PCA](https://scikit-learn.org/stable/modules/generated/sklearn.decomposition.PCA.html) analysis  \n",
        "\n",
        "\n",
        "\n"
      ]
    },
    {
      "cell_type": "code",
      "metadata": {
        "colab": {
          "base_uri": "https://localhost:8080/"
        },
        "id": "ij9Og0SESLso",
        "outputId": "7992d888-d3fb-4178-d94b-260507ad4b11"
      },
      "source": [
        "from sklearn.decomposition import PCA\n",
        "\n",
        "# - PCA Analysis\n",
        "pca = PCA() \n",
        "pca.fit(x_train_scaled)"
      ],
      "execution_count": 391,
      "outputs": [
        {
          "output_type": "execute_result",
          "data": {
            "text/plain": [
              "PCA()"
            ]
          },
          "metadata": {},
          "execution_count": 391
        }
      ]
    },
    {
      "cell_type": "markdown",
      "metadata": {
        "id": "LFWrC3M2Sxom"
      },
      "source": [
        "### PCA explains a part of the variance."
      ]
    },
    {
      "cell_type": "code",
      "metadata": {
        "colab": {
          "base_uri": "https://localhost:8080/"
        },
        "id": "ovrR3axHSQAW",
        "outputId": "352b3373-43ea-4add-fa9d-fcc6a9136435"
      },
      "source": [
        "# - the PCA explains a part of the variance.\n",
        "print(pca.components_)\n",
        "print(pca.explained_variance_)\n"
      ],
      "execution_count": 392,
      "outputs": [
        {
          "output_type": "stream",
          "name": "stdout",
          "text": [
            "[[ 2.45769908e-18 -1.93435053e-01 -2.84584362e-01 ... -1.01977598e-01\n",
            "  -1.28763282e-01 -7.46025470e-02]\n",
            " [-3.86280647e-20  4.58912013e-02  6.48072981e-02 ... -2.24909035e-01\n",
            "  -1.52595100e-01 -6.59506368e-02]\n",
            " [ 2.92546202e-19 -3.32616468e-03  7.63072966e-02 ...  2.51047630e-02\n",
            "  -8.80176474e-02 -8.08010464e-02]\n",
            " ...\n",
            " [ 0.00000000e+00 -2.89672775e-16 -6.05869374e-17 ...  3.58220398e-16\n",
            "   2.77555756e-16 -1.11022302e-16]\n",
            " [ 0.00000000e+00 -3.56579139e-17 -2.46493011e-17 ... -2.74519990e-16\n",
            "   1.30971622e-16 -7.45931095e-17]\n",
            " [ 1.00000000e+00  1.87747998e-18  1.53904343e-17 ... -8.02909398e-18\n",
            "  -6.57781674e-18  4.70297171e-19]]\n",
            "[7.39473869e+00 5.92231880e+00 5.25229279e+00 3.90746836e+00\n",
            " 2.97614572e+00 2.64108436e+00 2.41403293e+00 2.07472957e+00\n",
            " 1.85134308e+00 1.79411347e+00 1.69189093e+00 1.55116122e+00\n",
            " 1.38886839e+00 1.37402220e+00 1.29237813e+00 1.16323953e+00\n",
            " 1.07166994e+00 9.85840361e-01 9.70818420e-01 9.23958520e-01\n",
            " 8.18786025e-01 7.78110384e-01 6.73067143e-01 6.35974128e-01\n",
            " 6.04243139e-01 5.66215630e-01 5.24110052e-01 5.08424014e-01\n",
            " 4.80114394e-01 4.55781795e-01 4.28567856e-01 4.18686661e-01\n",
            " 3.95271287e-01 3.72569241e-01 3.47959521e-01 3.29620057e-01\n",
            " 3.03874930e-01 2.85147374e-01 2.77558085e-01 2.61467904e-01\n",
            " 2.49432351e-01 2.37073062e-01 2.20364702e-01 2.05227993e-01\n",
            " 1.93026030e-01 1.85814657e-01 1.73699729e-01 1.67287298e-01\n",
            " 1.54266767e-01 1.37774852e-01 1.33315005e-01 1.15099455e-01\n",
            " 1.14486625e-01 1.08938615e-01 9.92679900e-02 9.12731162e-02\n",
            " 8.77269537e-02 7.87098478e-02 7.49746606e-02 6.25235245e-02\n",
            " 4.73711997e-02 1.94415029e-31 3.00961738e-32 2.84202451e-32]\n"
          ]
        }
      ]
    },
    {
      "cell_type": "markdown",
      "metadata": {
        "id": "UTr2ww86VqcR"
      },
      "source": [
        "###  Plotting the cumulative variance to get the number of principal components we need."
      ]
    },
    {
      "cell_type": "code",
      "metadata": {
        "colab": {
          "base_uri": "https://localhost:8080/",
          "height": 295
        },
        "id": "96JJrFnRVl_d",
        "outputId": "29606ed0-c52c-4d69-8160-8330a05c575e"
      },
      "source": [
        "xi = numpy.arange(1, 65, step=1)\n",
        "y = numpy.cumsum(pca.explained_variance_ratio_)\n",
        "\n",
        "fig, ax = plt.subplots()\n",
        "plt.ylim(0.0, 1.1)\n",
        "plt.plot(xi, y, marker='.', linestyle='--', color='b')\n",
        "\n",
        "plt.xlabel('Number of Components')\n",
        "plt.xticks(numpy.arange(0, 64, step=5))  # change from 0-based array index to 1-based human-readable label\n",
        "plt.ylabel('Cumulative variance (%)')\n",
        "plt.title('The number of components needed to explain variance')\n",
        "\n",
        "plt.axhline(y=0.95, color='black', linestyle='-')\n",
        "plt.text(0.5, 1.00, '95% cut-off threshold', color='black', fontsize=12,\n",
        "         backgroundcolor='white')\n",
        "\n",
        "ax.grid(axis='x')\n",
        "plt.show()\n",
        "# We can see how the cut-off threshold crosses with the cumulative variance at 40 number of components.\n",
        "# Hence, this is the number of principals we need."
      ],
      "execution_count": 393,
      "outputs": [
        {
          "output_type": "display_data",
          "data": {
            "image/png": "[encoded data removed]",
            "text/plain": [
              "<Figure size 432x288 with 1 Axes>"
            ]
          },
          "metadata": {
            "needs_background": "light"
          }
        }
      ]
    },
    {
      "cell_type": "markdown",
      "metadata": {
        "id": "UJnU29AgmRjX"
      },
      "source": [
        "## Dimensionality Reduction: [SVD](https://scikit-learn.org/stable/modules/generated/sklearn.decomposition.TruncatedSVD.html) analysis \n",
        "\n",
        "\n"
      ]
    },
    {
      "cell_type": "code",
      "metadata": {
        "id": "h3iNm4ZAmbo7"
      },
      "source": [
        "from sklearn.decomposition import TruncatedSVD\n",
        "\n",
        "tsvd = TruncatedSVD(63)\n",
        "projected_svd = tsvd.fit(x_train_scaled)"
      ],
      "execution_count": 394,
      "outputs": []
    },
    {
      "cell_type": "markdown",
      "metadata": {
        "id": "iE-JkNEozMoO"
      },
      "source": [
        "### Same analysis as PCA: obtaining the best number of components for SVD."
      ]
    },
    {
      "cell_type": "code",
      "metadata": {
        "colab": {
          "base_uri": "https://localhost:8080/",
          "height": 295
        },
        "id": "donP7T2-tDsS",
        "outputId": "16b68334-f1eb-4735-a1fb-3ef69c9f63bd"
      },
      "source": [
        "xi = numpy.arange(1, 64, step=1)\n",
        "y = numpy.cumsum(tsvd.explained_variance_ratio_)\n",
        "\n",
        "fig, ax = plt.subplots()\n",
        "\n",
        "plt.ylim(0.0, 1.1)\n",
        "plt.plot(xi, y, marker='.', linestyle='--', color='b')\n",
        "\n",
        "plt.xlabel('Number of Components')\n",
        "plt.xticks(numpy.arange(0, 64, step=5))  # change from 0-based array index to 1-based human-readable label\n",
        "plt.ylabel('Cumulative variance (%)')\n",
        "plt.title('The number of components needed to explain variance')\n",
        "\n",
        "plt.axhline(y=0.95, color='black', linestyle='-')\n",
        "plt.text(0.5, 1.00, '95% cut-off threshold', color='black', fontsize=12,\n",
        "         backgroundcolor='white')\n",
        "\n",
        "ax.grid(axis='x')\n",
        "plt.show()\n",
        "# From the cut-off threshold, we can see the number of components it's equal to \n",
        "# as previous PCA results, 40 components. "
      ],
      "execution_count": 395,
      "outputs": [
        {
          "output_type": "display_data",
          "data": {
            "image/png": "[encoded data removed]",
            "text/plain": [
              "<Figure size 432x288 with 1 Axes>"
            ]
          },
          "metadata": {
            "needs_background": "light"
          }
        }
      ]
    },
    {
      "cell_type": "markdown",
      "metadata": {
        "id": "-fy3gjNSzcoN"
      },
      "source": [
        "## Applying a dimension reduction choosing a 95% of variance explained"
      ]
    },
    {
      "cell_type": "code",
      "metadata": {
        "id": "9wibyuNdzheT"
      },
      "source": [
        "pca = PCA(40).fit(x_train_scaled)\n",
        "pca_train = pca.transform(x_train_scaled)\n",
        "pca_test  = pca.transform(x_test_scaled)\n",
        "# print(\"PCA\\n\\ntrain data:\", pca_train, \"\\n\\ntest data:\", pca_test)"
      ],
      "execution_count": 396,
      "outputs": []
    },
    {
      "cell_type": "code",
      "metadata": {
        "id": "fzteh0RZ0mMW"
      },
      "source": [
        "tsvd = TruncatedSVD(40).fit(x_train_scaled)\n",
        "tsvd_train = tsvd.transform(x_train_scaled)\n",
        "tsvd_test = tsvd.transform(x_test_scaled)\n",
        "# print(\"Truncated SVD\\n\\ntrain data:\", tsvd_train, \"\\n\\ntest data:\", tsvd_test)"
      ],
      "execution_count": 397,
      "outputs": []
    },
    {
      "cell_type": "markdown",
      "metadata": {
        "id": "VgtK-IYYGdJv"
      },
      "source": [
        "### PCA vs Truncated SVD\n",
        "\n",
        "While both methods attempt to perform a *Dimensionality Reduction*, **PCA** is a projection such that the variance is as high as possible, this is, using *eigenvalues* and *eigenvectors* in *covariance matrix* to calculate and rank the importance of features, whereas **SVD** works very similar to PCA but instead of using a covariance matrix, it works directly on the sample matrices. \n",
        "Hence, both methods produce an equivalent result matrix.  \n",
        "\n",
        "Moreover, we obtained the same value of dimension reduction using a threshold of 95% variance explained (40, over 64) with both methods, which is not a surprise since they are equivalent, as explained previously. \n",
        "\n"
      ]
    },
    {
      "cell_type": "markdown",
      "metadata": {
        "id": "9UEtclWSO14Y"
      },
      "source": [
        "### Using PCA results \n",
        "\n",
        "Finally, for the sake of continuing with our kNN analysis, we will use the projected PCA matrixes. Nonetheless, SVD results could have been used indistinctly."
      ]
    },
    {
      "cell_type": "code",
      "metadata": {
        "id": "YsYhBrdyO5fX"
      },
      "source": [
        "x_train_scaled = pca_train\n",
        "x_test_scaled = pca_test"
      ],
      "execution_count": 398,
      "outputs": []
    },
    {
      "cell_type": "markdown",
      "metadata": {
        "id": "rCdv38JF072t"
      },
      "source": [
        "## Find the k optimal value for the k-NN classifier using 10-fold cross-validation\n",
        "\n",
        "Now, we can proceed with the KNN classification algorithm, for which we first need to select a number of k neighbours to calculate. The selection of this number is not trivial, as the performance will depend directly on it. \n",
        "\n",
        "Therefore, we will apply a 10-fold cross validation to select an appropriate value for k. \n",
        "\n",
        "### 10-fold cross validation\n",
        "Cross-validation is a resampling procedure used to evaluate machine learning models on a limited data sample.\n",
        "\n",
        "The procedure has a single parameter called k that refers to the number of groups that a given data sample is to be split into. As such, the procedure is often called k-fold cross-validation. When a specific value for k is chosen, it may be used in place of k in the reference to the model, such as k=10 becoming 10-fold cross-validation.\n",
        "\n",
        "For this, we will use a GridSearchCV(), in which we just need to pass different number of neighbours and it will fit the KNN algorithm with all of them, make a comparison on the score based on the comparison between the predicted data against the target data (from our train subset).  Finally, we can select the k number with the best score.\n"
      ]
    },
    {
      "cell_type": "markdown",
      "metadata": {
        "id": "IoMSIMIw5JDF"
      },
      "source": [
        "### Creating the model"
      ]
    },
    {
      "cell_type": "code",
      "metadata": {
        "id": "FBGIxzoi5KpD"
      },
      "source": [
        "from sklearn.model_selection import GridSearchCV\n",
        "from sklearn.neighbors import KNeighborsClassifier\n",
        "\n",
        "knn = KNeighborsClassifier()"
      ],
      "execution_count": 399,
      "outputs": []
    },
    {
      "cell_type": "markdown",
      "metadata": {
        "id": "t16HxytV5Qk6"
      },
      "source": [
        "### Creating a dictionary with all the values we want to try\n",
        "In this case, we will do a 10-fold cross validation."
      ]
    },
    {
      "cell_type": "code",
      "metadata": {
        "id": "flylX6Xc04co"
      },
      "source": [
        "from sklearn.model_selection import GridSearchCV\n",
        "\n",
        "param_grid = {'n_neighbors': numpy.arange(1, 10)}"
      ],
      "execution_count": 400,
      "outputs": []
    },
    {
      "cell_type": "markdown",
      "metadata": {
        "id": "y5aZSF6l5emf"
      },
      "source": [
        "### Using gridsearch to test all values for `n_neighbors`"
      ]
    },
    {
      "cell_type": "code",
      "metadata": {
        "id": "FXItC6Bt5d3S"
      },
      "source": [
        "knn_gscv = GridSearchCV(knn, param_grid, cv=10)\n"
      ],
      "execution_count": 401,
      "outputs": []
    },
    {
      "cell_type": "markdown",
      "metadata": {
        "id": "H1KcTv-G5lcv"
      },
      "source": [
        "### Fit model to data"
      ]
    },
    {
      "cell_type": "code",
      "metadata": {
        "colab": {
          "base_uri": "https://localhost:8080/"
        },
        "id": "XEB_AXvF5l_C",
        "outputId": "ad4bdb74-3f07-45b1-d41a-0e606f3cee04"
      },
      "source": [
        "knn_gscv.fit(x_train_scaled, y_train)"
      ],
      "execution_count": 402,
      "outputs": [
        {
          "output_type": "execute_result",
          "data": {
            "text/plain": [
              "GridSearchCV(cv=10, estimator=KNeighborsClassifier(),\n",
              "             param_grid={'n_neighbors': array([1, 2, 3, 4, 5, 6, 7, 8, 9])})"
            ]
          },
          "metadata": {},
          "execution_count": 402
        }
      ]
    },
    {
      "cell_type": "markdown",
      "metadata": {
        "id": "c5kzHldl5rOu"
      },
      "source": [
        "### Check best performing `n_neighbors` value (cross-validating)\n"
      ]
    },
    {
      "cell_type": "code",
      "metadata": {
        "colab": {
          "base_uri": "https://localhost:8080/"
        },
        "id": "HyNFi2pl5qnH",
        "outputId": "7335da2f-e75e-40bd-ba72-cdbf8bdf2a2e"
      },
      "source": [
        "print('best params:', knn_gscv.best_params_)"
      ],
      "execution_count": 403,
      "outputs": [
        {
          "output_type": "stream",
          "name": "stdout",
          "text": [
            "best params: {'n_neighbors': 3}\n"
          ]
        }
      ]
    },
    {
      "cell_type": "markdown",
      "metadata": {
        "id": "HPCfSUU65zGP"
      },
      "source": [
        "### Best score output"
      ]
    },
    {
      "cell_type": "code",
      "metadata": {
        "colab": {
          "base_uri": "https://localhost:8080/"
        },
        "id": "64Hdjqki5yoT",
        "outputId": "d340ce11-b3fa-4086-f72a-25df867b15fa"
      },
      "source": [
        "print('best score:', knn_gscv.best_score_)"
      ],
      "execution_count": 404,
      "outputs": [
        {
          "output_type": "stream",
          "name": "stdout",
          "text": [
            "best score: 0.9762465450525152\n"
          ]
        }
      ]
    },
    {
      "cell_type": "markdown",
      "metadata": {
        "id": "fvA2jAaR1CM1"
      },
      "source": [
        "Like this, we’ve determined that the most appropriate number of neighbours for our KNN Algorithm is 3. Bear in mind that this doesn’t necessarily mean it will give us the best score against the test data, since we are doing the comparison between 10 subsets from our train data. More on this in the following sections."
      ]
    },
    {
      "cell_type": "markdown",
      "metadata": {
        "id": "p_uq7d0-Te2a"
      },
      "source": [
        "## Training/fitting KNN Classifier \n",
        "\n",
        "Finally, we perform the fitting process using the previously obtain number of neighbours equal to 3, and then we can test our model by predicting the numbers from the test data subset: "
      ]
    },
    {
      "cell_type": "code",
      "metadata": {
        "id": "paNc-PaPGXHs"
      },
      "source": [
        "n_neighbors = knn_gscv.best_params_[\"n_neighbors\"]  # 3 neighbors\n",
        "clf = KNeighborsClassifier(n_neighbors=n_neighbors)"
      ],
      "execution_count": 405,
      "outputs": []
    },
    {
      "cell_type": "markdown",
      "metadata": {
        "id": "aRoS5kmyUANg"
      },
      "source": [
        "### Learn the digits from the subset"
      ]
    },
    {
      "cell_type": "code",
      "metadata": {
        "colab": {
          "base_uri": "https://localhost:8080/"
        },
        "id": "SB47dOgmUDpM",
        "outputId": "c3d955ec-621b-4f46-c60d-144b0ae9e8f4"
      },
      "source": [
        "clf.fit(x_train_scaled, y_train)"
      ],
      "execution_count": 406,
      "outputs": [
        {
          "output_type": "execute_result",
          "data": {
            "text/plain": [
              "KNeighborsClassifier(n_neighbors=3)"
            ]
          },
          "metadata": {},
          "execution_count": 406
        }
      ]
    },
    {
      "cell_type": "markdown",
      "metadata": {
        "id": "pqzhGcjuW2fU"
      },
      "source": [
        "### Predict digit values from test subset"
      ]
    },
    {
      "cell_type": "code",
      "metadata": {
        "colab": {
          "base_uri": "https://localhost:8080/"
        },
        "id": "f7gcI5NDW6q-",
        "outputId": "1f8f5e84-a7fc-4d4f-fa5d-9b50a88f5505"
      },
      "source": [
        "predicted = clf.predict(x_test_scaled)\n",
        "print(predicted)"
      ],
      "execution_count": 407,
      "outputs": [
        {
          "output_type": "stream",
          "name": "stdout",
          "text": [
            "[6 9 3 7 2 1 5 2 5 2 1 9 4 0 4 2 3 7 8 8 4 3 9 7 5 6 3 5 6 3 4 9 1 4 4 6 9\n",
            " 4 7 6 6 9 1 3 6 1 3 0 6 5 5 1 3 5 6 0 9 0 0 1 0 4 5 2 4 5 7 0 7 5 9 9 5 4\n",
            " 7 0 4 5 5 9 9 0 2 3 8 0 6 4 4 9 1 2 8 3 5 2 9 0 4 4 4 3 5 3 1 3 5 9 4 2 7\n",
            " 7 4 4 1 9 2 7 8 7 2 6 9 4 0 7 2 7 5 8 7 5 7 9 0 6 6 4 2 8 0 9 4 6 8 9 6 9\n",
            " 0 3 5 6 6 0 6 4 2 9 3 7 7 2 9 0 4 5 3 6 5 9 9 8 4 2 1 3 7 7 2 2 3 9 8 0 3\n",
            " 2 1 5 6 9 9 4 1 5 4 2 3 6 4 8 5 9 5 7 1 9 4 8 1 5 4 4 9 6 1 8 6 0 4 5 2 7\n",
            " 4 6 4 5 6 0 3 2 3 6 7 1 5 1 4 7 6 8 1 5 5 1 6 2 8 8 9 5 7 6 2 2 2 3 4 8 8\n",
            " 3 6 0 9 7 7 0 1 0 4 5 1 5 3 6 0 4 1 0 0 3 6 5 9 7 3 5 5 9 9 8 5 3 3 2 0 5\n",
            " 8 3 4 0 2 4 6 4 3 4 5 0 5 2 1 3 1 4 1 1 7 0 1 5 2 1 2 8 7 0 6 4 8 8 5 1 2\n",
            " 4 5 8 7 9 8 6 0 6 2 0 7 9 8 9 5 2 7 7 1 8 7 4 3 8 3 5 6 0 0 3 0 5 0 0 4 1\n",
            " 2 8 4 5 9 6 3 1 8 8 4 2 3 8 9 8 8 5 0 6 3 3 7 1 6 4 1 2 1 1 6 4 7 4 8 3 4\n",
            " 0 5 1 9 4 5 7 6 3 7 0 5 9 7 5 9 7 4 2 1 9 0 7 5 1 3 6 3 6 6 9 5 0 1 5 5 8\n",
            " 3 2 6 2 6 5]\n"
          ]
        }
      ]
    },
    {
      "cell_type": "markdown",
      "metadata": {
        "id": "uKYJS1vpXG8a"
      },
      "source": [
        "### Testing its correctness/score "
      ]
    },
    {
      "cell_type": "code",
      "metadata": {
        "colab": {
          "base_uri": "https://localhost:8080/"
        },
        "id": "ifUctqBtXL5m",
        "outputId": "47578b1a-607f-4827-fba3-f6f004bf7fcc"
      },
      "source": [
        "clf.score(x_test_scaled, y_test)"
      ],
      "execution_count": 408,
      "outputs": [
        {
          "output_type": "execute_result",
          "data": {
            "text/plain": [
              "0.9666666666666667"
            ]
          },
          "metadata": {},
          "execution_count": 408
        }
      ]
    },
    {
      "cell_type": "markdown",
      "metadata": {
        "id": "ss_-7yWbk0uA"
      },
      "source": [
        "## Metrics: Classification model report \n",
        "\n",
        "This report summarizes the following metrics:\n",
        "- **Recall**: means \"how many of this class you find over the whole number of element of this class\"\n",
        "- **Precision**: Scores on number of correctly classified value for each class.\n",
        "- **F1-score**: Harmonic mean between precision and recall.\n",
        "- **Support**: The number of occurence of each class in the dataset."
      ]
    },
    {
      "cell_type": "code",
      "metadata": {
        "colab": {
          "base_uri": "https://localhost:8080/"
        },
        "id": "H1XsZ-btk1Dl",
        "outputId": "b5fe8948-f886-4348-def4-33efe8867245"
      },
      "source": [
        "from sklearn import metrics\n",
        "print(metrics.classification_report(y_test, predicted))"
      ],
      "execution_count": 409,
      "outputs": [
        {
          "output_type": "stream",
          "name": "stdout",
          "text": [
            "              precision    recall  f1-score   support\n",
            "\n",
            "           0       1.00      1.00      1.00        43\n",
            "           1       0.90      1.00      0.95        37\n",
            "           2       0.93      0.97      0.95        38\n",
            "           3       0.98      0.93      0.96        46\n",
            "           4       1.00      1.00      1.00        55\n",
            "           5       0.98      0.97      0.97        59\n",
            "           6       0.96      1.00      0.98        45\n",
            "           7       0.98      0.98      0.98        41\n",
            "           8       0.97      0.92      0.95        38\n",
            "           9       0.96      0.90      0.92        48\n",
            "\n",
            "    accuracy                           0.97       450\n",
            "   macro avg       0.96      0.97      0.97       450\n",
            "weighted avg       0.97      0.97      0.97       450\n",
            "\n"
          ]
        }
      ]
    },
    {
      "cell_type": "markdown",
      "metadata": {
        "id": "jQyO6j9QcSfb"
      },
      "source": [
        "## K Neighbours Analysis: different classifier performances varying the number of `k`\n",
        "\n",
        "Now, we will test the performance of the algorithm by building different models with different numbers of k neighbours, from 1 to 25. "
      ]
    },
    {
      "cell_type": "markdown",
      "metadata": {
        "id": "3uLyZQ96iyrl"
      },
      "source": [
        "### Varying the number of `k` from 1 to 25"
      ]
    },
    {
      "cell_type": "code",
      "metadata": {
        "colab": {
          "base_uri": "https://localhost:8080/"
        },
        "id": "MdMT-g9bgUPU",
        "outputId": "4d585e0e-8d88-4470-8f1a-9139658a62f6"
      },
      "source": [
        "scores_array = []\n",
        "for i in range(25):\n",
        "  k = i + 1\n",
        "  aux_knn = KNeighborsClassifier(n_neighbors=k)\n",
        "  aux_knn.fit(x_train_scaled, y_train)\n",
        "  score = aux_knn.score(x_test_scaled, y_test)\n",
        "  scores_array.append(score)\n",
        "\n",
        "print(scores_array)"
      ],
      "execution_count": 410,
      "outputs": [
        {
          "output_type": "stream",
          "name": "stdout",
          "text": [
            "[0.9777777777777777, 0.9644444444444444, 0.9666666666666667, 0.9688888888888889, 0.98, 0.9688888888888889, 0.9777777777777777, 0.9711111111111111, 0.9755555555555555, 0.9733333333333334, 0.9755555555555555, 0.9711111111111111, 0.9644444444444444, 0.9577777777777777, 0.9511111111111111, 0.9577777777777777, 0.9488888888888889, 0.9488888888888889, 0.9466666666666667, 0.9444444444444444, 0.9444444444444444, 0.9444444444444444, 0.9444444444444444, 0.9466666666666667, 0.9444444444444444]\n"
          ]
        }
      ]
    },
    {
      "cell_type": "markdown",
      "metadata": {
        "id": "gQCxBqBVixsk"
      },
      "source": [
        "## Plotting the results"
      ]
    },
    {
      "cell_type": "code",
      "metadata": {
        "colab": {
          "base_uri": "https://localhost:8080/",
          "height": 295
        },
        "id": "EQ6tGQ6Lgkvc",
        "outputId": "d67fb91e-3d5d-4d8b-b42a-438834f6e927"
      },
      "source": [
        "xi = numpy.arange(1, 26, step=1)\n",
        "y = scores_array\n",
        "\n",
        "fig, ax = plt.subplots()\n",
        "plt.ylim(0.92, 1.01)\n",
        "plt.plot(xi, y, marker='.', linestyle='--', color='b')\n",
        "\n",
        "plt.xlabel('Number of neighbours (k)')\n",
        "plt.xticks(numpy.arange(1, 26, step=1))  \n",
        "plt.ylabel('Scores')\n",
        "plt.title('KNN Classifier performance varying k neighbors from 1 to 25')\n",
        "\n",
        "plt.axvline(x=3, color='r', linestyle='-')\n",
        "plt.text(3.5, 1, 'Chosen number of neighbours', color='red', fontsize=14, \n",
        "         backgroundcolor='white')\n",
        "ax.grid(axis='x')\n",
        "plt.show()"
      ],
      "execution_count": 411,
      "outputs": [
        {
          "output_type": "display_data",
          "data": {
            "image/png": "[encoded data removed]",
            "text/plain": [
              "<Figure size 432x288 with 1 Axes>"
            ]
          },
          "metadata": {
            "needs_background": "light"
          }
        }
      ]
    },
    {
      "cell_type": "markdown",
      "metadata": {
        "id": "EwVVo_ZR1OR7"
      },
      "source": [
        "Here we can see that there are some number of neighbours that outputs better results than the one we previously chose, but that doesn’t necessarily means it is better as it may enter into **overfitting**, which is a condition where a model or functions fits too close to the test data, and consequently, giving statistically wrong results against other data, hence it will end up being useful only for the initial data set. Thus, attempting to make the model conform too closely to slightly inaccurate data can infect the model with substantial errors and reduce its predictive power."
      ]
    },
    {
      "cell_type": "markdown",
      "metadata": {
        "id": "BUOftftWoqjr"
      },
      "source": [
        "## References\n",
        "\n",
        "https://www.mikulskibartosz.name/pca-how-to-choose-the-number-of-components/\n",
        "\n",
        "https://towardsdatascience.com/building-a-k-nearest-neighbors-k-nn-model-with-scikit-learn-51209555453a\n",
        "\n",
        "https://scikit-learn.org/stable/modules/generated/sklearn.decomposition.PCA.html\n",
        "\n",
        "https://scikit-learn.org/stable/modules/generated/sklearn.decomposition.TruncatedSVD.html\n",
        "\n",
        "https://scikit-learn.org/stable/modules/generated/sklearn.neighbors.KNeighborsClassifier.html\n",
        "\n",
        "https://etav.github.io/python/scikit_pca.html\n",
        "\n",
        "https://analyticsindiamag.com/beginners-guide-to-truncated-svd-for-dimensionality-reduction/"
      ]
    },
    {
      "cell_type": "markdown",
      "metadata": {
        "id": "6F5QqjY-qBxp"
      },
      "source": [
        "____________________\n",
        "\n",
        "_Javier Merida_\n",
        "\n",
        "\n",
        "_Barcelona. December, 2021_"
      ]
    }
  ]
}